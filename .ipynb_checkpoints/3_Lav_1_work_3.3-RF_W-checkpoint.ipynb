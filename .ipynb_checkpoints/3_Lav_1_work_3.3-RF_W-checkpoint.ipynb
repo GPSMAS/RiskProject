{
 "cells": [
  {
   "cell_type": "code",
   "execution_count": 1,
   "id": "af7d52e3",
   "metadata": {},
   "outputs": [],
   "source": [
    "import pandas as pd\n",
    "import numpy as np"
   ]
  },
  {
   "cell_type": "code",
   "execution_count": 2,
   "id": "11fe350a",
   "metadata": {},
   "outputs": [],
   "source": [
    "from sklearn.model_selection import train_test_split, StratifiedKFold, cross_val_score, GridSearchCV\n",
    "from sklearn.preprocessing import OneHotEncoder, StandardScaler\n",
    "from sklearn.feature_extraction.text import TfidfVectorizer\n",
    "from sklearn.compose import ColumnTransformer\n",
    "from sklearn.preprocessing import FunctionTransformer\n",
    "from sklearn.metrics import classification_report, roc_auc_score, confusion_matrix\n",
    "from imblearn.pipeline import Pipeline as ImbPipeline\n",
    "import matplotlib.pyplot as plt\n",
    "from sklearn.inspection import permutation_importance\n",
    "from sklearn.metrics import (\n",
    "    f1_score, precision_score, recall_score, accuracy_score, confusion_matrix, classification_report, roc_curve, roc_auc_score\n",
    ")\n",
    "from joblib import Memory\n",
    "from sklearn.ensemble import RandomForestClassifier"
   ]
  },
  {
   "cell_type": "code",
   "execution_count": 3,
   "id": "7111a2d7-6de4-4bc2-b024-54ab56ea9eba",
   "metadata": {},
   "outputs": [],
   "source": [
    "file_path = r'data_output\\df_lav1.csv'\n",
    "df_lav1 = pd.read_csv(file_path)"
   ]
  },
  {
   "cell_type": "code",
   "execution_count": 4,
   "id": "3247138e-697c-423a-a70e-dce9249a0073",
   "metadata": {},
   "outputs": [
    {
     "name": "stdout",
     "output_type": "stream",
     "text": [
      "<class 'pandas.core.frame.DataFrame'>\n",
      "RangeIndex: 104376 entries, 0 to 104375\n",
      "Data columns (total 15 columns):\n",
      " #   Column                                Non-Null Count   Dtype  \n",
      "---  ------                                --------------   -----  \n",
      " 0   Unnamed: 0                            104376 non-null  int64  \n",
      " 1   Anag_oc_sintesi_progetto              104376 non-null  object \n",
      " 2   Prog_OC_COD_CATEGORIA_SPESA           104376 non-null  object \n",
      " 3   Altr_CUP_COD_NATURA                   104376 non-null  int64  \n",
      " 4   Altr_CUP_COD_SETTORE                  104376 non-null  int64  \n",
      " 5   Altr_OC_COD_TIPO_AIUTO                104376 non-null  object \n",
      " 6   Sogg_OC_DENOM_PROGRAMMATORE           104376 non-null  object \n",
      " 7   Sogg_OC_DESCR_FORMA_GIU_BENEFICIARIO  104245 non-null  object \n",
      " 8   New_prj_duration_pred                 104376 non-null  int64  \n",
      " 9   New_marginal_cost                     104376 non-null  float64\n",
      " 10  New_DEN_REGIONE_new                   104376 non-null  object \n",
      " 11  New_DEN_PROVINCIA_new                 104376 non-null  object \n",
      " 12  New_DEN_COMUNE_new                    104376 non-null  object \n",
      " 13  New_Risk                              104376 non-null  int64  \n",
      " 14  Cluster_Comune                        99385 non-null   object \n",
      "dtypes: float64(1), int64(5), object(9)\n",
      "memory usage: 11.9+ MB\n"
     ]
    }
   ],
   "source": [
    "df_lav1.info()"
   ]
  },
  {
   "cell_type": "code",
   "execution_count": 5,
   "id": "4ad078e3-f5e0-438e-90e8-a974afb8ad4e",
   "metadata": {},
   "outputs": [],
   "source": [
    "df_lav1 = df_lav1.drop(columns=[\"Unnamed: 0\",\"New_DEN_PROVINCIA_new\", \"New_marginal_cost\", \"Altr_CUP_COD_NATURA\", \"Altr_CUP_COD_SETTORE\",\"New_DEN_COMUNE_new\"])"
   ]
  },
  {
   "cell_type": "code",
   "execution_count": 6,
   "id": "0fabb7f1-e585-4fde-a45b-0fa81616df57",
   "metadata": {},
   "outputs": [],
   "source": [
    "#categorical_columns_to_force = ['Altr_CUP_COD_NATURA', 'Altr_CUP_COD_SETTORE', 'New_Risk']\n",
    "categorical_columns_to_force = ['New_Risk']\n",
    "\n",
    "df_lav1[categorical_columns_to_force] = df_lav1[categorical_columns_to_force].astype('category')"
   ]
  },
  {
   "cell_type": "code",
   "execution_count": 7,
   "id": "fff3f1cb-499f-4dfe-aa1c-733b00a31f29",
   "metadata": {},
   "outputs": [],
   "source": [
    "# Identifica i tipi di colonne\n",
    "text_cols = ['Anag_oc_sintesi_progetto', 'Sogg_OC_DESCR_FORMA_GIU_BENEFICIARIO','Sogg_OC_DENOM_PROGRAMMATORE']\n",
    "numeric_cols = ['New_prj_duration_pred', 'New_marginal_cost']\n",
    "#categorical_cols = list(set(X.columns) - set(text_cols) - set(numeric_cols))\n",
    "categorical_cols = list(set(df_lav1.columns) - set(numeric_cols)-set(text_cols))"
   ]
  },
  {
   "cell_type": "code",
   "execution_count": 8,
   "id": "5149c621-52d2-4ae3-9884-7d5f2c63f18e",
   "metadata": {},
   "outputs": [],
   "source": [
    "nan_or_empty = df_lav1[text_cols].apply(lambda col: col.isna() | col.str.strip().eq(\"\"))\n",
    "df_lav1 = df_lav1[~nan_or_empty.any(axis=1)].copy()"
   ]
  },
  {
   "cell_type": "markdown",
   "id": "36df1e44-0eea-4fb1-ab15-103c68fe6f46",
   "metadata": {},
   "source": [
    "### Dont consider invalid string for project description\n",
    "We consider that project description is an important features (confirmed by feature importance permutation) so because we have a big dataset we\n",
    "consider dont loosing information if we don consider rows with invalid string for project description, we made this applying the following funcion.\n",
    "From the following code we see that we have about 15 k record dont acceptable but all in class 0 --- the most unbalaced, so we accept to delete."
   ]
  },
  {
   "cell_type": "code",
   "execution_count": 9,
   "id": "fb6ef772-2ff0-4ead-ad8f-2db75da87598",
   "metadata": {},
   "outputs": [
    {
     "name": "stdout",
     "output_type": "stream",
     "text": [
      "Record con stringhe non accettabili nella colonna 'Anag_oc_sintesi_progetto':\n",
      "      Anag_oc_sintesi_progetto Prog_OC_COD_CATEGORIA_SPESA  \\\n",
      "3116                       M+M                         055   \n",
      "5275                       XXX                         001   \n",
      "34002                     ....                         051   \n",
      "34003                     ....                         051   \n",
      "34004                     ....                         051   \n",
      "...                        ...                         ...   \n",
      "74141                       SA                         067   \n",
      "74226                       SS                         067   \n",
      "75074                        G                         067   \n",
      "77539                        N                         067   \n",
      "85222                      VGM                         067   \n",
      "\n",
      "      Altr_OC_COD_TIPO_AIUTO Sogg_OC_DENOM_PROGRAMMATORE  \\\n",
      "3116                       F             REGIONE TOSCANA   \n",
      "5275                       D             REGIONE TOSCANA   \n",
      "34002                      F             MIUR ISTRUZIONE   \n",
      "34003                      F             MIUR ISTRUZIONE   \n",
      "34004                      F             MIUR ISTRUZIONE   \n",
      "...                      ...                         ...   \n",
      "74141                      B              REGIONE PUGLIA   \n",
      "74226                      B              REGIONE PUGLIA   \n",
      "75074                      B              REGIONE PUGLIA   \n",
      "77539                      B              REGIONE PUGLIA   \n",
      "85222                      B              REGIONE PUGLIA   \n",
      "\n",
      "        Sogg_OC_DESCR_FORMA_GIU_BENEFICIARIO  New_prj_duration_pred  \\\n",
      "3116                                  Comune                   1845   \n",
      "5275       Societa a responsabilita limitata                    686   \n",
      "34002                                 Comune                    188   \n",
      "34003                                 Comune                    219   \n",
      "34004                                 Comune                    172   \n",
      "...                                      ...                    ...   \n",
      "74141  Imprenditore individuale non agricolo                    483   \n",
      "74226  Imprenditore individuale non agricolo                    477   \n",
      "75074  Imprenditore individuale non agricolo                    471   \n",
      "77539  Imprenditore individuale non agricolo                    441   \n",
      "85222      Societa a responsabilita limitata                    561   \n",
      "\n",
      "      New_DEN_REGIONE_new New_Risk Cluster_Comune  \n",
      "3116              TOSCANA        0     Bet_5K_20K  \n",
      "5275              TOSCANA        0     Bet_5K_20K  \n",
      "34002             ABRUZZO        0      Less_2.5K  \n",
      "34003             ABRUZZO        0     Bet_5K_20K  \n",
      "34004             ABRUZZO        0      Less_2.5K  \n",
      "...                   ...      ...            ...  \n",
      "74141              PUGLIA        0     Bet_5K_20K  \n",
      "74226              PUGLIA        0    Bet_20K_50K  \n",
      "75074              PUGLIA        0      Less_2.5K  \n",
      "77539              PUGLIA        3     Bet_5K_20K  \n",
      "85222              PUGLIA        0      More_250K  \n",
      "\n",
      "[15393 rows x 9 columns]\n",
      "Numero di record con stringhe non accettabili: 15393\n",
      "Numero di categorie target impattate: 3\n",
      "Conteggio dei record impattati per categoria target:\n",
      "New_Risk\n",
      "0    15352\n",
      "3       39\n",
      "1        2\n",
      "2        0\n",
      "Name: count, dtype: int64\n"
     ]
    }
   ],
   "source": [
    "import re\n",
    "\n",
    "# Funzione per identificare stringhe non accettabili\n",
    "def is_invalid_string(text):\n",
    "    if pd.isna(text):  # Controllo per NaN\n",
    "        return True\n",
    "    text = text.strip()  # Rimuove spazi iniziali e finali\n",
    "    # Controlla se il testo è vuoto, troppo corto o ha solo caratteri non significativi\n",
    "    return len(text) < 4 or re.fullmatch(r\"[.]+\", text) is not None\n",
    "\n",
    "# Applica il filtro alla colonna 'Anag_oc_sintesi_progetto'\n",
    "invalid_rows = df_lav1[\"Anag_oc_sintesi_progetto\"].apply(is_invalid_string)\n",
    "\n",
    "# Seleziona i record con stringhe non accettabili\n",
    "invalid_records = df_lav1[invalid_rows]\n",
    "\n",
    "# Conta il numero di categorie target impattate\n",
    "categories_impacted = invalid_records[\"New_Risk\"].nunique()  # Sostituisci 'target' con il nome della tua colonna target\n",
    "\n",
    "# Conta le occorrenze per ogni categoria\n",
    "categories_count = invalid_records[\"New_Risk\"].value_counts()\n",
    "\n",
    "# Stampa i risultati\n",
    "print(\"Record con stringhe non accettabili nella colonna 'Anag_oc_sintesi_progetto':\")\n",
    "print(invalid_records)\n",
    "print(f\"Numero di record con stringhe non accettabili: {len(invalid_records)}\")\n",
    "print(f\"Numero di categorie target impattate: {categories_impacted}\")\n",
    "print(\"Conteggio dei record impattati per categoria target:\")\n",
    "print(categories_count)"
   ]
  },
  {
   "cell_type": "code",
   "execution_count": 10,
   "id": "1852e526-3dba-4cc9-a890-640e84385f6d",
   "metadata": {},
   "outputs": [],
   "source": [
    "df_lav1 = df_lav1[~invalid_rows]"
   ]
  },
  {
   "cell_type": "code",
   "execution_count": 11,
   "id": "0f8dffda-992f-4844-921f-473961ed64cf",
   "metadata": {},
   "outputs": [
    {
     "name": "stdout",
     "output_type": "stream",
     "text": [
      "<class 'pandas.core.frame.DataFrame'>\n",
      "Index: 88852 entries, 0 to 104375\n",
      "Data columns (total 9 columns):\n",
      " #   Column                                Non-Null Count  Dtype   \n",
      "---  ------                                --------------  -----   \n",
      " 0   Anag_oc_sintesi_progetto              88852 non-null  object  \n",
      " 1   Prog_OC_COD_CATEGORIA_SPESA           88852 non-null  object  \n",
      " 2   Altr_OC_COD_TIPO_AIUTO                88852 non-null  object  \n",
      " 3   Sogg_OC_DENOM_PROGRAMMATORE           88852 non-null  object  \n",
      " 4   Sogg_OC_DESCR_FORMA_GIU_BENEFICIARIO  88852 non-null  object  \n",
      " 5   New_prj_duration_pred                 88852 non-null  int64   \n",
      " 6   New_DEN_REGIONE_new                   88852 non-null  object  \n",
      " 7   New_Risk                              88852 non-null  category\n",
      " 8   Cluster_Comune                        84408 non-null  object  \n",
      "dtypes: category(1), int64(1), object(7)\n",
      "memory usage: 6.2+ MB\n"
     ]
    }
   ],
   "source": [
    "df_lav1.info()"
   ]
  },
  {
   "cell_type": "code",
   "execution_count": 12,
   "id": "e991fa3d-726c-40fa-b25f-91b8a03f1e14",
   "metadata": {},
   "outputs": [],
   "source": [
    "X = df_lav1.drop('New_Risk', axis=1)\n",
    "y = df_lav1['New_Risk']"
   ]
  },
  {
   "cell_type": "code",
   "execution_count": 13,
   "id": "0f293ae7-c15b-4293-ad5d-378903d8b627",
   "metadata": {},
   "outputs": [],
   "source": [
    "# repeat it here to apply on the X with no target in\n",
    "text_cols = ['Anag_oc_sintesi_progetto', 'Sogg_OC_DESCR_FORMA_GIU_BENEFICIARIO','Sogg_OC_DENOM_PROGRAMMATORE']\n",
    "numeric_cols = ['New_prj_duration_pred']\n",
    "#categorical_cols = list(set(X.columns) - set(text_cols) - set(numeric_cols))\n",
    "categorical_cols = list(set(X.columns) - set(numeric_cols)-set(text_cols))"
   ]
  },
  {
   "cell_type": "code",
   "execution_count": 14,
   "id": "5f010371-8146-4f96-bb01-65469dd79ffe",
   "metadata": {},
   "outputs": [
    {
     "name": "stdout",
     "output_type": "stream",
     "text": [
      "<class 'pandas.core.frame.DataFrame'>\n",
      "Index: 88852 entries, 0 to 104375\n",
      "Data columns (total 8 columns):\n",
      " #   Column                                Non-Null Count  Dtype \n",
      "---  ------                                --------------  ----- \n",
      " 0   Anag_oc_sintesi_progetto              88852 non-null  object\n",
      " 1   Prog_OC_COD_CATEGORIA_SPESA           88852 non-null  object\n",
      " 2   Altr_OC_COD_TIPO_AIUTO                88852 non-null  object\n",
      " 3   Sogg_OC_DENOM_PROGRAMMATORE           88852 non-null  object\n",
      " 4   Sogg_OC_DESCR_FORMA_GIU_BENEFICIARIO  88852 non-null  object\n",
      " 5   New_prj_duration_pred                 88852 non-null  int64 \n",
      " 6   New_DEN_REGIONE_new                   88852 non-null  object\n",
      " 7   Cluster_Comune                        84408 non-null  object\n",
      "dtypes: int64(1), object(7)\n",
      "memory usage: 6.1+ MB\n"
     ]
    }
   ],
   "source": [
    "X.info()"
   ]
  },
  {
   "cell_type": "markdown",
   "id": "b66f0dc5-33c7-453f-9a26-e9b6e92f4671",
   "metadata": {},
   "source": [
    "### Preprocessing"
   ]
  },
  {
   "cell_type": "code",
   "execution_count": 15,
   "id": "4eed3749-59c4-47da-bd34-c810e3954317",
   "metadata": {},
   "outputs": [],
   "source": [
    "text_transformers = ColumnTransformer(\n",
    "    transformers=[\n",
    "        ('text1', TfidfVectorizer(), 'Anag_oc_sintesi_progetto'),\n",
    "        ('text2', TfidfVectorizer(), 'Sogg_OC_DESCR_FORMA_GIU_BENEFICIARIO'),\n",
    "        ('text3', TfidfVectorizer(), 'Sogg_OC_DENOM_PROGRAMMATORE')\n",
    "    ],\n",
    "    remainder='passthrough'  # Keep numeric and categorical data untouched\n",
    ")\n",
    "\n",
    "# Preprocessor for numeric and categorical data\n",
    "preprocessor = ColumnTransformer(\n",
    "    transformers=[\n",
    "        ('num', StandardScaler(), numeric_cols),\n",
    "        ('cat', OneHotEncoder(handle_unknown='ignore'), categorical_cols),\n",
    "    ],\n",
    "    remainder='drop'  # Drop columns not explicitly mentioned\n",
    ")\n",
    "\n",
    "# Combine preprocessing for numeric/categorical and text columns\n",
    "final_preprocessor = ColumnTransformer(\n",
    "    transformers=[\n",
    "        ('num_cat', preprocessor, numeric_cols + categorical_cols),\n",
    "        ('text', text_transformers, text_cols),\n",
    "    ],\n",
    "    remainder='drop'  # Drop other columns\n",
    ")"
   ]
  },
  {
   "cell_type": "code",
   "execution_count": 16,
   "id": "5685d18d-0d31-4346-8415-20214cf43f2b",
   "metadata": {},
   "outputs": [
    {
     "name": "stdout",
     "output_type": "stream",
     "text": [
      "<class 'pandas.core.series.Series'>\n",
      "Index: 88852 entries, 0 to 104375\n",
      "Series name: New_Risk\n",
      "Non-Null Count  Dtype   \n",
      "--------------  -----   \n",
      "88852 non-null  category\n",
      "dtypes: category(1)\n",
      "memory usage: 781.1 KB\n"
     ]
    }
   ],
   "source": [
    "y.info()"
   ]
  },
  {
   "cell_type": "code",
   "execution_count": 17,
   "id": "9ea5c913-9eb3-48df-a798-efedb7bc945d",
   "metadata": {},
   "outputs": [],
   "source": [
    "# all X and y\n",
    "X_train, X_test, y_train, y_test = train_test_split(\n",
    "    X, y, test_size=0.3, stratify=y, random_state=42\n",
    ")"
   ]
  },
  {
   "cell_type": "code",
   "execution_count": 18,
   "id": "99859a93-8adb-42a8-b0c3-93f69df93431",
   "metadata": {},
   "outputs": [
    {
     "name": "stdout",
     "output_type": "stream",
     "text": [
      "<class 'pandas.core.series.Series'>\n",
      "Index: 62196 entries, 97842 to 28320\n",
      "Series name: New_Risk\n",
      "Non-Null Count  Dtype   \n",
      "--------------  -----   \n",
      "62196 non-null  category\n",
      "dtypes: category(1)\n",
      "memory usage: 546.8 KB\n"
     ]
    }
   ],
   "source": [
    "#y_train.info()"
   ]
  },
  {
   "cell_type": "code",
   "execution_count": 19,
   "id": "573848d5-9c0c-4337-a5f1-e78dd388d7aa",
   "metadata": {},
   "outputs": [],
   "source": [
    "#X_train.head(50)"
   ]
  },
  {
   "cell_type": "markdown",
   "id": "b19d9f5f-ae94-4bfd-a0f3-3cec6f52fffd",
   "metadata": {},
   "source": [
    "# Apply Random Forest Model with:\n",
    "- weight balancing: function of frequences\n",
    "- thresholds = {0: 0.65, 1: 0.3, 2: 0.3, 3: 0.45} -- selected after several test"
   ]
  },
  {
   "cell_type": "code",
   "execution_count": 30,
   "id": "e9bb1821-34e9-46f9-9418-75b53a1ab2ae",
   "metadata": {},
   "outputs": [
    {
     "name": "stdout",
     "output_type": "stream",
     "text": [
      "Fitting 5 folds for each of 162 candidates, totalling 810 fits\n"
     ]
    },
    {
     "name": "stderr",
     "output_type": "stream",
     "text": [
      "C:\\Users\\gsepe\\AppData\\Local\\anaconda3\\Lib\\site-packages\\numpy\\ma\\core.py:2820: RuntimeWarning: invalid value encountered in cast\n",
      "  _data = np.array(data, dtype=dtype, copy=copy,\n"
     ]
    },
    {
     "name": "stdout",
     "output_type": "stream",
     "text": [
      "[Memory]1.9s, 0.0min    : Loading _fit_transform_one from cache_directory\\joblib\\imblearn\\pipeline\\_fit_transform_one\\f15a692d68e0a5662a464aeede3bb1c2\n",
      "___________________________________fit_transform_one cache loaded - 0.3s, 0.0min\n"
     ]
    },
    {
     "data": {
      "image/png": "[encoded data removed]",
      "text/plain": [
       "<Figure size 1000x800 with 1 Axes>"
      ]
     },
     "metadata": {},
     "output_type": "display_data"
    },
    {
     "name": "stdout",
     "output_type": "stream",
     "text": [
      "Model: RandomForest\n",
      "  F1 Score (macro): 0.5091\n",
      "  Precision (macro): 0.4790\n",
      "  Recall (macro): 0.6196\n",
      "  Accuracy: 0.6558\n",
      "  Confusion Matrix:\n",
      "[[13720  2777   544  3669]\n",
      " [  311   922   212     0]\n",
      " [  366   255   616     4]\n",
      " [  881    24   133  2222]]\n",
      "  Best Params: {'classifier__bootstrap': True, 'classifier__class_weight': {0: 0.32178555907369466, 1: 4.613946587537092, 2: 5.367276492923714, 3: 2.043769716088328}, 'classifier__max_depth': 40, 'classifier__max_features': 'sqrt', 'classifier__min_samples_leaf': 1, 'classifier__min_samples_split': 2, 'classifier__n_estimators': 300}\n",
      "--------------------------------------------------\n",
      "  Metrics per Class:\n",
      "    Class 0: Precision: 0.8980, Recall: 0.6625, F1-Score: 0.7625, Support: 20710.0\n",
      "    Class 1: Precision: 0.2318, Recall: 0.6381, F1-Score: 0.3400, Support: 1445.0\n",
      "    Class 2: Precision: 0.4093, Recall: 0.4964, F1-Score: 0.4487, Support: 1241.0\n",
      "    Class 3: Precision: 0.3769, Recall: 0.6816, F1-Score: 0.4854, Support: 3260.0\n",
      "--------------------------------------------------\n",
      "  ROC AUC per Class:\n",
      "    Class 0: AUC = 0.8445\n",
      "    Class 1: AUC = 0.8953\n",
      "    Class 2: AUC = 0.9091\n",
      "    Class 3: AUC = 0.8793\n"
     ]
    }
   ],
   "source": [
    "# Random Forest application\n",
    "\n",
    "class_weights = compute_class_weight('balanced', classes=np.unique(y_train), y=y_train)\n",
    "weights_dict = {i: weight for i, weight in enumerate(class_weights)}\n",
    "\n",
    "models = {\n",
    "#    \"LogisticRegression\": LogisticRegression(random_state=42, multi_class=\"ovr\",class_weight=weights_dict),\n",
    "#    \"SVC\": SVC(random_state=42, class_weight=weights_dict),\n",
    "    \"RandomForest\": RandomForestClassifier(random_state=42),\n",
    "\n",
    "}\n",
    "\n",
    "param_grids = {\n",
    "#    \"LogisticRegression\": {\n",
    "#        \"classifier__solver\": [\"liblinear\", \"saga\", \"lbfgs\"],\n",
    "#        \"classifier__C\": [0.01, 0.1, 1, 10, 100],  # Regolarizzazione inversa\n",
    "#        \"classifier__class_weight\": [weights_dict],\n",
    "#    },\n",
    "\n",
    "#    \"SVC\": {\n",
    "#        \"classifier__C\": [0.1, 1, 10],\n",
    "#        \"classifier__kernel\": [\"linear\", \"rbf\"],\n",
    "#        \"classifier__class_weight\": [weights_dict, \"balanced\", None]\n",
    "#    },\n",
    "    \"RandomForest\": {\n",
    "        \"classifier__n_estimators\": [100, 200, 300],\n",
    "        \"classifier__max_depth\": [10, 20, 40],\n",
    "        \"classifier__min_samples_split\": [2, 5, 10],\n",
    "        \"classifier__min_samples_leaf\": [1, 2, 4],\n",
    "        \"classifier__max_features\": [\"sqrt\", \"log2\"],\n",
    "        \"classifier__bootstrap\": [True],\n",
    "        \"classifier__class_weight\": [weights_dict],\n",
    "    },\n",
    "\n",
    "}\n",
    "\n",
    "# Store results\n",
    "results = []\n",
    "thresholds = {0: 0.65, 1: 0.3, 2: 0.3, 3: 0.45}  # Soglie personalizzate per ogni classe\n",
    "\n",
    "for model_name, model in models.items():\n",
    "    # Creazione Pipeline con RandomUnderSampler\n",
    "    cachedir = 'cache_directory'\n",
    "    memory = Memory(cachedir, verbose=10)\n",
    "    \n",
    "    pipeline = ImbPipeline(\n",
    "        steps=[\n",
    "            (\"preprocessor\", final_preprocessor),  # Definisci questo preprocessore\n",
    "#            (\"undersampler\", RandomUnderSampler(random_state=42)),\n",
    "            (\"classifier\", model),\n",
    "        ], memory=memory\n",
    "    )\n",
    "\n",
    "    # GridSearchCV per iperparametri\n",
    "    grid_search = GridSearchCV(\n",
    "        pipeline, param_grids[model_name], cv=5, scoring=\"f1_macro\", n_jobs=-1, verbose = 1\n",
    "    )\n",
    "    grid_search.fit(X_train, y_train)\n",
    "\n",
    "    # Best model\n",
    "    best_model = grid_search.best_estimator_\n",
    "\n",
    "    # Probabilità previste\n",
    "    y_proba = best_model.predict_proba(X_test)\n",
    "\n",
    "    # Applica soglie personalizzate\n",
    "    y_pred_custom = np.zeros_like(y_test)\n",
    "    for i, threshold in thresholds.items():\n",
    "        y_pred_custom[y_proba[:, i] >= threshold] = i\n",
    "\n",
    "    # Metriche globali\n",
    "    f1 = f1_score(y_test, y_pred_custom, average=\"macro\")\n",
    "    precision = precision_score(y_test, y_pred_custom, average=\"macro\")\n",
    "    recall = recall_score(y_test, y_pred_custom, average=\"macro\")\n",
    "    accuracy = accuracy_score(y_test, y_pred_custom)\n",
    "    conf_matrix = confusion_matrix(y_test, y_pred_custom)\n",
    "\n",
    "    # Metriche per ciascuna classe\n",
    "    class_report = classification_report(y_test, y_pred_custom, output_dict=True)\n",
    "\n",
    "    # Calcolo ROC e AUC\n",
    "    n_classes = len(np.unique(y_test))  # Numero di classi\n",
    "    y_test_binary = label_binarize(y_test, classes=np.arange(n_classes))\n",
    "\n",
    "    fpr, tpr, roc_auc = {}, {}, {}\n",
    "    for i in range(n_classes):\n",
    "        fpr[i], tpr[i], _ = roc_curve(y_test_binary[:, i], y_proba[:, i])\n",
    "        roc_auc[i] = roc_auc_score(y_test_binary[:, i], y_proba[:, i])\n",
    "\n",
    "    # Grafico delle curve ROC\n",
    "    plt.figure(figsize=(10, 8))\n",
    "    for i in range(n_classes):\n",
    "        plt.plot(fpr[i], tpr[i], label=f\"Class {i} (AUC = {roc_auc[i]:.2f})\")\n",
    "\n",
    "    # Linea casuale per riferimento\n",
    "    plt.plot([0, 1], [0, 1], 'k--', label=\"Random Guess\")\n",
    "\n",
    "    plt.title(f\"ROC Curve for {model_name}\")\n",
    "    plt.xlabel(\"False Positive Rate\")\n",
    "    plt.ylabel(\"True Positive Rate\")\n",
    "    plt.legend(loc=\"lower right\")\n",
    "    plt.grid(alpha=0.3)\n",
    "    plt.show()\n",
    "\n",
    "    # Store results\n",
    "    results.append({\n",
    "        \"Model\": model_name,\n",
    "        \"F1 Score\": f1,\n",
    "        \"Precision\": precision,\n",
    "        \"Recall\": recall,\n",
    "        \"Accuracy\": accuracy,\n",
    "        \"Confusion Matrix\": conf_matrix,\n",
    "        \"Best Params\": grid_search.best_params_,\n",
    "        \"Class Report\": class_report,\n",
    "        \"ROC AUC\": roc_auc,\n",
    "    })\n",
    "\n",
    "# Display results\n",
    "for result in results:\n",
    "    print(f\"Model: {result['Model']}\")\n",
    "    print(f\"  F1 Score (macro): {result['F1 Score']:.4f}\")\n",
    "    print(f\"  Precision (macro): {result['Precision']:.4f}\")\n",
    "    print(f\"  Recall (macro): {result['Recall']:.4f}\")\n",
    "    print(f\"  Accuracy: {result['Accuracy']:.4f}\")\n",
    "    print(f\"  Confusion Matrix:\\n{result['Confusion Matrix']}\")\n",
    "    print(f\"  Best Params: {result['Best Params']}\")\n",
    "    print(\"-\" * 50)\n",
    "    print(\"  Metrics per Class:\")\n",
    "    for class_id, metrics in result[\"Class Report\"].items():\n",
    "        if class_id.isdigit():  # Filtra solo le classi numeriche\n",
    "            print(f\"    Class {class_id}: Precision: {metrics['precision']:.4f}, \"\n",
    "                  f\"Recall: {metrics['recall']:.4f}, F1-Score: {metrics['f1-score']:.4f}, \"\n",
    "                  f\"Support: {metrics['support']}\")\n",
    "    print(\"-\" * 50)\n",
    "\n",
    "    print(\"  ROC AUC per Class:\")\n",
    "    for class_id, auc in result[\"ROC AUC\"].items():\n",
    "        print(f\"    Class {class_id}: AUC = {auc:.4f}\")\n"
   ]
  },
  {
   "cell_type": "code",
   "execution_count": 31,
   "id": "b20f0c51-58e7-47ff-9c03-0bd3784e2bde",
   "metadata": {},
   "outputs": [
    {
     "data": {
      "text/plain": [
       "['data_output\\\\Lav_1_work_3.3-RF_W_BM.pkl']"
      ]
     },
     "execution_count": 31,
     "metadata": {},
     "output_type": "execute_result"
    }
   ],
   "source": [
    "import joblib\n",
    "results_bm = grid_search.best_estimator_\n",
    "joblib.dump(results, r\"data_output\\Lav_1_work_3.3-RF_W.pkl\")\n",
    "joblib.dump(results_bm, r\"data_output\\Lav_1_work_3.3-RF_W_BM.pkl\")"
   ]
  },
  {
   "cell_type": "code",
   "execution_count": null,
   "id": "f9ae2ab0-6912-49e7-ae6d-2d31335b62bd",
   "metadata": {},
   "outputs": [],
   "source": []
  }
 ],
 "metadata": {
  "kernelspec": {
   "display_name": "Python 3 (ipykernel)",
   "language": "python",
   "name": "python3"
  },
  "language_info": {
   "codemirror_mode": {
    "name": "ipython",
    "version": 3
   },
   "file_extension": ".py",
   "mimetype": "text/x-python",
   "name": "python",
   "nbconvert_exporter": "python",
   "pygments_lexer": "ipython3",
   "version": "3.12.7"
  }
 },
 "nbformat": 4,
 "nbformat_minor": 5
}
